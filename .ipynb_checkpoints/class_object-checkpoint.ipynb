{
 "cells": [
  {
   "cell_type": "markdown",
   "metadata": {},
   "source": [
    "# 1. 클래스를 만드는 방법 "
   ]
  },
  {
   "cell_type": "code",
   "execution_count": null,
   "metadata": {},
   "outputs": [],
   "source": [
    "class 클래스 이름: \n",
    "    attribute 선언\n",
    "    method 선언"
   ]
  },
  {
   "cell_type": "markdown",
   "metadata": {},
   "source": [
    "### 1.1 attribute 선언\n",
    "* 파이썬에서 attribute는 값과 함께 선언이 일반적임\n",
    "    - 예: attribute1 = 0\n",
    "* 생성자 메서드 __init__의 인자를 활용해서 선언하는 방식이 보다 일반적임\n",
    "    - 예: __init__의 인자 중 하나가 width일 경우 \n",
    "    - __init__메서드 안에서 self.attribute1 = width로 attribute1 선언"
   ]
  },
  {
   "cell_type": "markdown",
   "metadata": {},
   "source": [
    "### 1.2 method 선언\n",
    "* class 안에서 def 메서드(self, ...) 와 같은 방식으로 선언"
   ]
  },
  {
   "cell_type": "markdown",
   "metadata": {},
   "source": [
    "## 예제"
   ]
  },
  {
   "cell_type": "code",
   "execution_count": 2,
   "metadata": {},
   "outputs": [],
   "source": [
    "class Quad:\n",
    "    height = 0\n",
    "    width = 0\n",
    "    color = ''\n",
    "    \n",
    "    def get_area(self):\n",
    "        return self.height * self.width"
   ]
  },
  {
   "cell_type": "markdown",
   "metadata": {},
   "source": [
    "### 4X3(red), 5X5(blue), 7X4(brown) 세 개 객체를 만들고, 각각의 넓이 출력"
   ]
  },
  {
   "cell_type": "code",
   "execution_count": 3,
   "metadata": {},
   "outputs": [
    {
     "data": {
      "text/plain": [
       "12"
      ]
     },
     "execution_count": 3,
     "metadata": {},
     "output_type": "execute_result"
    }
   ],
   "source": [
    "quad1 = Quad()\n",
    "quad1.height = 4\n",
    "quad1.width = 3\n",
    "quad1.color = 'red'\n",
    "quad1.get_area()"
   ]
  },
  {
   "cell_type": "code",
   "execution_count": 3,
   "metadata": {},
   "outputs": [
    {
     "data": {
      "text/plain": [
       "25"
      ]
     },
     "execution_count": 3,
     "metadata": {},
     "output_type": "execute_result"
    }
   ],
   "source": [
    "quad2 = Quad()\n",
    "quad2.height = 5\n",
    "quad2.width = 5\n",
    "quad2.color ='blue'\n",
    "quad2.get_area()"
   ]
  },
  {
   "cell_type": "markdown",
   "metadata": {},
   "source": [
    "## 2. 클래스로 객체를 어떻게 만드니"
   ]
  },
  {
   "cell_type": "code",
   "execution_count": 4,
   "metadata": {},
   "outputs": [],
   "source": [
    "quad1 = Quad()\n",
    "quad2 = Quad()\n",
    "quad3 = Quad()\n",
    "quad4 = Quad()"
   ]
  },
  {
   "cell_type": "markdown",
   "metadata": {},
   "source": [
    "## 3. 객체의 속성 또는 메서드를 핸들링하니?"
   ]
  },
  {
   "cell_type": "code",
   "execution_count": 5,
   "metadata": {},
   "outputs": [],
   "source": [
    "class SingleWord:\n",
    "    pass"
   ]
  },
  {
   "cell_type": "code",
   "execution_count": 6,
   "metadata": {},
   "outputs": [
    {
     "data": {
      "text/plain": [
       "['__class__',\n",
       " '__delattr__',\n",
       " '__dict__',\n",
       " '__dir__',\n",
       " '__doc__',\n",
       " '__eq__',\n",
       " '__format__',\n",
       " '__ge__',\n",
       " '__getattribute__',\n",
       " '__gt__',\n",
       " '__hash__',\n",
       " '__init__',\n",
       " '__init_subclass__',\n",
       " '__le__',\n",
       " '__lt__',\n",
       " '__module__',\n",
       " '__ne__',\n",
       " '__new__',\n",
       " '__reduce__',\n",
       " '__reduce_ex__',\n",
       " '__repr__',\n",
       " '__setattr__',\n",
       " '__sizeof__',\n",
       " '__str__',\n",
       " '__subclasshook__',\n",
       " '__weakref__']"
      ]
     },
     "execution_count": 6,
     "metadata": {},
     "output_type": "execute_result"
    }
   ],
   "source": [
    "dir (SingleWord)"
   ]
  },
  {
   "cell_type": "markdown",
   "metadata": {},
   "source": [
    "* class도 변수/함수와 마찬가지로 유일한 이름을 지어줘야 함\n",
    "* class에 attribute/method를 아직 안넣은 상태이므로, 클래스에 내용이 없기에 임의로 pass를 넣어 클래스 선언이 끝났음을 알려줌\n",
    "  - pass는 아무것도 수행하지 않는 문법, 임시 코드 작성시 주로 사용\n",
    "* 클래스명은 PEP Coding Convetion에 가이드된 대로 각 단어의 첫 문자를 대문자로 하는 CapWords 방식을 사용"
   ]
  },
  {
   "cell_type": "markdown",
   "metadata": {},
   "source": [
    "<div class=\"alert alert-block alert-success\">\n",
    "    <strong><font color=\"blue\" size=\"4em\">초간단 연습1</font></strong><br>\n",
    "    *width, height, color 속성을 가진 사각형 클래스를 만들고 다음 2개의 객체 만들기 (객체 속성을 바꿔주시고, 출력도 해보세요)<br>\n",
    "        - 직사각형 1개 객체 속성: width=10, height=5, color='red'<br>\n",
    "        - 정사각형 1개 객체 속성: width=7, height=7, color='blue'<br>\n",
    "</div>\n"
   ]
  },
  {
   "cell_type": "code",
   "execution_count": 9,
   "metadata": {},
   "outputs": [],
   "source": [
    "class Square():\n",
    "    width = 0\n",
    "    height = 0\n",
    "    color = ''\n",
    "\n",
    "class Rectangle():\n",
    "    width = 0\n",
    "    height = 0 \n",
    "    color = '' \n"
   ]
  },
  {
   "cell_type": "code",
   "execution_count": 10,
   "metadata": {},
   "outputs": [],
   "source": [
    "square = Square()"
   ]
  },
  {
   "cell_type": "code",
   "execution_count": 11,
   "metadata": {},
   "outputs": [],
   "source": [
    "square.width = 7\n",
    "square.width = 7\n",
    "square.color='blue'"
   ]
  },
  {
   "cell_type": "code",
   "execution_count": 12,
   "metadata": {},
   "outputs": [],
   "source": [
    "rectangle = Rectangle()"
   ]
  },
  {
   "cell_type": "code",
   "execution_count": 13,
   "metadata": {},
   "outputs": [],
   "source": [
    "rectangle.width = 10\n",
    "rectangle.height = 5\n",
    "rectangle.color = 'blue'"
   ]
  },
  {
   "cell_type": "markdown",
   "metadata": {},
   "source": [
    "### 3.3 method 넣어보기\n",
    "#### 만들고자 하는 method 생각해보기1\n",
    "  - 사각형 넓이 구하기    "
   ]
  },
  {
   "cell_type": "markdown",
   "metadata": {},
   "source": [
    "### 3.3 method 넣어보기\n",
    "#### 만들고자 하는 method 생각해보기1\n",
    "  - 사각형 넓이 구하기."
   ]
  },
  {
   "cell_type": "code",
   "execution_count": 32,
   "metadata": {},
   "outputs": [],
   "source": [
    "class Square():\n",
    "    width = 0\n",
    "    height = 0\n",
    "    color = ''\n",
    "    \n",
    "    def get_area(self):\n",
    "        return self.width * self.height \n",
    "    def set_area(self,data1,data2):\n",
    "        self.width = data1\n",
    "        self.height = data2\n",
    "       "
   ]
  },
  {
   "cell_type": "code",
   "execution_count": 40,
   "metadata": {},
   "outputs": [],
   "source": [
    "square = Square()"
   ]
  },
  {
   "cell_type": "code",
   "execution_count": 42,
   "metadata": {},
   "outputs": [],
   "source": [
    "square.set_area(7,7)"
   ]
  },
  {
   "cell_type": "code",
   "execution_count": 43,
   "metadata": {},
   "outputs": [
    {
     "data": {
      "text/plain": [
       "7"
      ]
     },
     "execution_count": 43,
     "metadata": {},
     "output_type": "execute_result"
    }
   ],
   "source": [
    "square.width"
   ]
  },
  {
   "cell_type": "code",
   "execution_count": 44,
   "metadata": {},
   "outputs": [
    {
     "data": {
      "text/plain": [
       "7"
      ]
     },
     "execution_count": 44,
     "metadata": {},
     "output_type": "execute_result"
    }
   ],
   "source": [
    "square.height"
   ]
  },
  {
   "cell_type": "code",
   "execution_count": 45,
   "metadata": {},
   "outputs": [
    {
     "data": {
      "text/plain": [
       "49"
      ]
     },
     "execution_count": 45,
     "metadata": {},
     "output_type": "execute_result"
    }
   ],
   "source": [
    "square.get_area()"
   ]
  },
  {
   "cell_type": "code",
   "execution_count": null,
   "metadata": {},
   "outputs": [],
   "source": []
  }
 ],
 "metadata": {
  "kernelspec": {
   "display_name": "Python 3",
   "language": "python",
   "name": "python3"
  },
  "language_info": {
   "codemirror_mode": {
    "name": "ipython",
    "version": 3
   },
   "file_extension": ".py",
   "mimetype": "text/x-python",
   "name": "python",
   "nbconvert_exporter": "python",
   "pygments_lexer": "ipython3",
   "version": "3.7.6"
  }
 },
 "nbformat": 4,
 "nbformat_minor": 4
}
