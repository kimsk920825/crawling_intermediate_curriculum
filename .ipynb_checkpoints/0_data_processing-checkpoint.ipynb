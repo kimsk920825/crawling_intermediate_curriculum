{
 "cells": [
  {
   "cell_type": "markdown",
   "metadata": {},
   "source": [
    "### Selenium."
   ]
  },
  {
   "cell_type": "code",
   "execution_count": 10,
   "metadata": {},
   "outputs": [],
   "source": [
    "from selenium import webdriver\n",
    "from selenium.webdriver.common.keys import Keys\n",
    "import time\n",
    "\n",
    "#단계1: 웹브라우저를 통해서 \n",
    "chromdriver = '/usr/local/Cellar/chromdriver/chromdriver'\n",
    "driver = webdriver.Chrome(chromdriver)\n",
    "\n",
    "#단계2: 싸이트에 자동접속\n",
    "driver.get('http://www.python.org')\n",
    "assert \"Python\" in driver.title #title에 Python이라는 글이 있으면 다음을 실행하라\n",
    "\n",
    "#단계3-1: 이름으로  크롤링\n",
    "elem = driver.find_element_by_name(\"q\")\n",
    "elem.clear()\n",
    "#키 이벤트 전송\n",
    "elem.send_keys('python')\n",
    "#엔터 입력\n",
    "elem.send_keys(Keys.RETURN)\n",
    "\n",
    "assert \"No results found.\" not in driver.page_source #페이지 소스창에서 No results found.라는 글이 있으면 다음을 실행하지 마라.\n",
    "\n",
    "#명시적으로 일정시간을 기다릴수 있다. (10초 기다림)\n",
    "time.sleep(5)\n",
    "\n",
    "#--------------------------------------------------------------------------------------------------------------#\n",
    "\n",
    "#단계3-2: 태그 이름으로 크롤링\n",
    "h3s = driver.find_elements_by_tag_name('h3')\n",
    "for h3 in h3s:\n",
    "    print(h3.text)\n",
    "#크롬 브라우저 닫기. \n",
    "driver.quit()"
   ]
  },
  {
   "cell_type": "markdown",
   "metadata": {},
   "source": [
    "특정 사이트에서 검색 결과 가져오기 \n",
    "find_element_by_name()\n",
    "find_elements_by_name()\n",
    "find_element_by_tag_name()\n",
    "find_elements_by_tag_name()\n"
   ]
  },
  {
   "cell_type": "code",
   "execution_count": 14,
   "metadata": {},
   "outputs": [
    {
     "name": "stdout",
     "output_type": "stream",
     "text": [
      "Python Documentation by Version\n",
      "Download Python for Other Platforms\n",
      "Python 2.5.3\n",
      "Python 2.5.4 Release\n",
      "Python 2.5.4\n",
      "Python 2.5.3 Release\n",
      "Python 2.5 Release\n",
      "Python 2.5.2 Release\n",
      "Python 2.5.1 Release\n",
      "Sunsetting Python 2\n",
      "Python 2.5.0\n",
      "Python 3.1.4\n",
      "Python 2.5.2\n",
      "Python 3.1.4 Release\n",
      "Python 3.1.3 Release\n",
      "Python 2.5.1\n",
      "Python 3.2.1 Release\n",
      "Python 2.7.9rc1\n",
      "Python 3.0 Release\n",
      "Python 3.2.5 Release\n"
     ]
    },
    {
     "data": {
      "text/plain": [
       "<bound method WebDriver.quit of <selenium.webdriver.chrome.webdriver.WebDriver (session=\"9d23e05737c0b884b3fb24320b2046b6\")>>"
      ]
     },
     "execution_count": 14,
     "metadata": {},
     "output_type": "execute_result"
    }
   ],
   "source": [
    "from selenium import webdriver\n",
    "from selenium.webdriver.common.keys import Keys\n",
    "import time\n",
    "\n",
    "#단계1: 웹브라우저를 통해서 \n",
    "chromdriver = '/usr/local/Cellar/chromdriver/chromdriver'\n",
    "driver = webdriver.Chrome(chromdriver)\n",
    "\n",
    "#단계2: 싸이트에 자동접속\n",
    "driver.get('http://www.python.org')\n",
    "assert \"Python\" in driver.title #title에 Python이라는 글이 있으면 다음을 실행하라\n",
    "\n",
    "#단계3-1: 이름으로  크롤링\n",
    "elem = driver.find_element_by_name(\"q\")\n",
    "elem.clear()\n",
    "#키 이벤트 전송\n",
    "elem.send_keys('python')\n",
    "#엔터 입력\n",
    "elem.send_keys(Keys.RETURN)\n",
    "\n",
    "assert \"No results found.\" not in driver.page_source #페이지 소스창에서 No results found.라는 글이 있으면 다음을 실행하지 마라.\n",
    "\n",
    "#명시적으로 일정시간을 기다릴수 있다. (10초 기다림)\n",
    "time.sleep(5)\n",
    "\n",
    "#--------------------------------------------------------------------------------------------------------------#\n",
    "data = driver.find_elements_by_css_selector(\"#content > div > section > form > ul > li > h3 > a\")\n",
    "for item in data: \n",
    "    print(item.text)\n",
    "driver.quit"
   ]
  },
  {
   "cell_type": "markdown",
   "metadata": {},
   "source": [
    "### PhantomJS: 화면이 없는 브라우저. <더 이상 제공하지 않음.>"
   ]
  },
  {
   "cell_type": "code",
   "execution_count": 1,
   "metadata": {},
   "outputs": [
    {
     "name": "stderr",
     "output_type": "stream",
     "text": [
      "/opt/anaconda3/lib/python3.7/site-packages/selenium/webdriver/phantomjs/webdriver.py:49: UserWarning: Selenium support for PhantomJS has been deprecated, please use headless versions of Chrome or Firefox instead\n",
      "  warnings.warn('Selenium support for PhantomJS has been deprecated, please use headless '\n"
     ]
    },
    {
     "name": "stdout",
     "output_type": "stream",
     "text": [
      "Python Documentation by Version\n",
      "Download Python for Other Platforms\n",
      "Python 2.5.3\n",
      "Python 2.5.4 Release\n",
      "Python 2.5.4\n",
      "Python 2.5.3 Release\n",
      "Python 2.5 Release\n",
      "Python 2.5.2 Release\n",
      "Python 2.5.1 Release\n",
      "Sunsetting Python 2\n",
      "Python 2.5.0\n",
      "Python 3.1.4\n",
      "Python 2.5.2\n",
      "Python 3.1.4 Release\n",
      "Python 3.1.3 Release\n",
      "Python 2.5.1\n",
      "Python 3.2.1 Release\n",
      "Python 2.7.9rc1\n",
      "Python 3.0 Release\n",
      "Python 3.2.5 Release\n"
     ]
    },
    {
     "data": {
      "text/plain": [
       "<bound method WebDriver.quit of <selenium.webdriver.phantomjs.webdriver.WebDriver (session=\"7c8f2e60-49a2-11eb-8aa8-659fedd26905\")>>"
      ]
     },
     "execution_count": 1,
     "metadata": {},
     "output_type": "execute_result"
    }
   ],
   "source": [
    "from selenium import webdriver\n",
    "from selenium.webdriver.common.keys import Keys\n",
    "import time\n",
    "\n",
    "#단계1: 웹브라우저를 통해서 \n",
    "phantomJS = '/usr/local/bin/phantomjs'\n",
    "driver = webdriver.PhantomJS(phantomJS)\n",
    "\n",
    "#단계2: 싸이트에 자동접속\n",
    "driver.get('http://www.python.org')\n",
    "assert \"Python\" in driver.title #title에 Python이라는 글이 있으면 다음을 실행하라\n",
    "\n",
    "#단계3-1: 이름으로  크롤링\n",
    "elem = driver.find_element_by_name(\"q\")\n",
    "elem.clear()\n",
    "#키 이 벤트 전송\n",
    "elem.send_keys('python')\n",
    "#엔터 입력\n",
    "elem.send_keys(Keys.RETURN)\n",
    "\n",
    "assert \"No results found.\" not in driver.page_source #페이지 소스창에서 No results found.라는 글이 있으면 다음을 실행하지 마라.\n",
    "\n",
    "#명시적으로 일정시간을 기다릴수 있다. (10초 기다림)\n",
    "time.sleep(5)\n",
    "\n",
    "#--------------------------------------------------------------------------------------------------------------#\n",
    "data = driver.find_elements_by_css_selector(\"#content > div > section > form > ul > li > h3 > a\")\n",
    "for item in data: \n",
    "    print(item.text)\n",
    "driver.quit"
   ]
  },
  {
   "cell_type": "markdown",
   "metadata": {},
   "source": [
    "### PhantomJS를 대체할 모듈 Headless"
   ]
  },
  {
   "cell_type": "code",
   "execution_count": 3,
   "metadata": {},
   "outputs": [
    {
     "name": "stdout",
     "output_type": "stream",
     "text": [
      "Python Documentation by Version\n",
      "Download Python for Other Platforms\n",
      "Python 2.5.3\n",
      "Python 2.5.4 Release\n",
      "Python 2.5.4\n",
      "Python 2.5.3 Release\n",
      "Python 2.5 Release\n",
      "Python 2.5.2 Release\n",
      "Python 2.5.1 Release\n",
      "Sunsetting Python 2\n",
      "Python 2.5.0\n",
      "Python 3.1.4\n",
      "Python 2.5.2\n",
      "Python 3.1.4 Release\n",
      "Python 3.1.3 Release\n",
      "Python 2.5.1\n",
      "Python 3.2.1 Release\n",
      "Python 2.7.9rc1\n",
      "Python 3.0 Release\n",
      "Python 3.2.5 Release\n"
     ]
    },
    {
     "data": {
      "text/plain": [
       "<bound method WebDriver.quit of <selenium.webdriver.chrome.webdriver.WebDriver (session=\"3dce90c76b362eca42cf7dfe684ecd72\")>>"
      ]
     },
     "execution_count": 3,
     "metadata": {},
     "output_type": "execute_result"
    }
   ],
   "source": [
    "from selenium import webdriver\n",
    "from selenium.webdriver.common.keys import Keys\n",
    "import time\n",
    "\n",
    "#단계1: 웹브라우저를 통해서 \n",
    "#phantomJS = '/usr/local/bin/phantomjs'\n",
    "#driver = webdriver.PhantomJS(phantomJS)\n",
    "#기존 selenium에서 options만 추가한다. \n",
    "chromedriver = '/usr/local/Cellar/chromdriver/chromdriver'\n",
    "headless_options= webdriver.ChromeOptions()\n",
    "headless_options.add_argument('headless')\n",
    "driver = webdriver.Chrome(chromedriver, options =headless_options)\n",
    "\n",
    "\n",
    "#단계2: 싸이트에 자동접속\n",
    "driver.get('http://www.python.org')\n",
    "assert \"Python\" in driver.title #title에 Python이라는 글이 있으면 다음을 실행하라\n",
    "\n",
    "#단계3-1: 이름으로  크롤링\n",
    "elem = driver.find_element_by_name(\"q\")\n",
    "elem.clear()\n",
    "#키 이 벤트 전송\n",
    "elem.send_keys('python')\n",
    "#엔터 입력\n",
    "elem.send_keys(Keys.RETURN)\n",
    "\n",
    "assert \"No results found.\" not in driver.page_source #페이지 소스창에서 No results found.라는 글이 있으면 다음을 실행하지 마라.\n",
    "\n",
    "#명시적으로 일정시간을 기다릴수 있다. (10초 기다림)\n",
    "time.sleep(5)\n",
    "\n",
    "#--------------------------------------------------------------------------------------------------------------#\n",
    "data = driver.find_elements_by_css_selector(\"#content > div > section > form > ul > li > h3 > a\")\n",
    "for item in data: \n",
    "    print(item.text)\n",
    "driver.quit"
   ]
  },
  {
   "cell_type": "code",
   "execution_count": null,
   "metadata": {},
   "outputs": [],
   "source": []
  }
 ],
 "metadata": {
  "kernelspec": {
   "display_name": "Python 3",
   "language": "python",
   "name": "python3"
  },
  "language_info": {
   "codemirror_mode": {
    "name": "ipython",
    "version": 3
   },
   "file_extension": ".py",
   "mimetype": "text/x-python",
   "name": "python",
   "nbconvert_exporter": "python",
   "pygments_lexer": "ipython3",
   "version": "3.7.6"
  }
 },
 "nbformat": 4,
 "nbformat_minor": 4
}
