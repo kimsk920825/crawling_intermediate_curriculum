{
 "cells": [
  {
   "cell_type": "markdown",
   "metadata": {},
   "source": [
    "### Selenium."
   ]
  },
  {
   "cell_type": "code",
   "execution_count": 10,
   "metadata": {},
   "outputs": [],
   "source": [
    "from selenium import webdriver\n",
    "from selenium.webdriver.common.keys import Keys\n",
    "import time\n",
    "\n",
    "#단계1: 웹브라우저를 통해서 \n",
    "chromdriver = '/usr/local/Cellar/chromdriver/chromdriver'\n",
    "driver = webdriver.Chrome(chromdriver)\n",
    "\n",
    "#단계2: 싸이트에 자동접속\n",
    "driver.get('http://www.python.org')\n",
    "assert \"Python\" in driver.title #title에 Python이라는 글이 있으면 다음을 실행하라\n",
    "\n",
    "#단계3-1: 이름으로  크롤링\n",
    "elem = driver.find_element_by_name(\"q\")\n",
    "elem.clear()\n",
    "#키 이벤트 전송\n",
    "elem.send_keys('python')\n",
    "#엔터 입력\n",
    "elem.send_keys(Keys.RETURN)\n",
    "\n",
    "assert \"No results found.\" not in driver.page_source #페이지 소스창에서 No results found.라는 글이 있으면 다음을 실행하지 마라.\n",
    "\n",
    "#명시적으로 일정시간을 기다릴수 있다. (10초 기다림)\n",
    "time.sleep(5)\n",
    "\n",
    "#--------------------------------------------------------------------------------------------------------------#\n",
    "\n",
    "#단계3-2: 태그 이름으로 크롤링\n",
    "h3s = driver.find_elements_by_tag_name('h3')\n",
    "for h3 in h3s:\n",
    "    print(h3.text)\n",
    "#크롬 브라우저 닫기. \n",
    "driver.quit()"
   ]
  },
  {
   "cell_type": "markdown",
   "metadata": {},
   "source": [
    "특정 사이트에서 검색 결과 가져오기       \n",
    "find_element_by_name()    \n",
    "find_elements_by_name()     \n",
    "find_element_by_tag_name()     \n",
    "find_elements_by_tag_name()    \n"
   ]
  },
  {
   "cell_type": "code",
   "execution_count": 14,
   "metadata": {},
   "outputs": [
    {
     "name": "stdout",
     "output_type": "stream",
     "text": [
      "Python Documentation by Version\n",
      "Download Python for Other Platforms\n",
      "Python 2.5.3\n",
      "Python 2.5.4 Release\n",
      "Python 2.5.4\n",
      "Python 2.5.3 Release\n",
      "Python 2.5 Release\n",
      "Python 2.5.2 Release\n",
      "Python 2.5.1 Release\n",
      "Sunsetting Python 2\n",
      "Python 2.5.0\n",
      "Python 3.1.4\n",
      "Python 2.5.2\n",
      "Python 3.1.4 Release\n",
      "Python 3.1.3 Release\n",
      "Python 2.5.1\n",
      "Python 3.2.1 Release\n",
      "Python 2.7.9rc1\n",
      "Python 3.0 Release\n",
      "Python 3.2.5 Release\n"
     ]
    },
    {
     "data": {
      "text/plain": [
       "<bound method WebDriver.quit of <selenium.webdriver.chrome.webdriver.WebDriver (session=\"9d23e05737c0b884b3fb24320b2046b6\")>>"
      ]
     },
     "execution_count": 14,
     "metadata": {},
     "output_type": "execute_result"
    }
   ],
   "source": [
    "from selenium import webdriver\n",
    "from selenium.webdriver.common.keys import Keys\n",
    "import time\n",
    "\n",
    "#단계1: 웹브라우저를 통해서 \n",
    "chromdriver = '/usr/local/Cellar/chromdriver/chromdriver'\n",
    "driver = webdriver.Chrome(chromdriver)\n",
    "\n",
    "#단계2: 싸이트에 자동접속\n",
    "driver.get('http://www.python.org')\n",
    "assert \"Python\" in driver.title #title에 Python이라는 글이 있으면 다음을 실행하라\n",
    "\n",
    "#단계3-1: 이름으로  크롤링\n",
    "elem = driver.find_element_by_name(\"q\")\n",
    "elem.clear()\n",
    "#키 이벤트 전송\n",
    "elem.send_keys('python')\n",
    "#엔터 입력\n",
    "elem.send_keys(Keys.RETURN)\n",
    "\n",
    "assert \"No results found.\" not in driver.page_source #페이지 소스창에서 No results found.라는 글이 있으면 다음을 실행하지 마라.\n",
    "\n",
    "#명시적으로 일정시간을 기다릴수 있다. (10초 기다림)\n",
    "time.sleep(5)\n",
    "\n",
    "#--------------------------------------------------------------------------------------------------------------#\n",
    "data = driver.find_elements_by_css_selector(\"#content > div > section > form > ul > li > h3 > a\")\n",
    "for item in data: \n",
    "    print(item.text)\n",
    "driver.quit"
   ]
  },
  {
   "cell_type": "markdown",
   "metadata": {},
   "source": [
    "### PhantomJS: 화면이 없는 브라우저. <더 이상 제공하지 않음.>"
   ]
  },
  {
   "cell_type": "code",
   "execution_count": 1,
   "metadata": {},
   "outputs": [
    {
     "name": "stderr",
     "output_type": "stream",
     "text": [
      "/opt/anaconda3/lib/python3.7/site-packages/selenium/webdriver/phantomjs/webdriver.py:49: UserWarning: Selenium support for PhantomJS has been deprecated, please use headless versions of Chrome or Firefox instead\n",
      "  warnings.warn('Selenium support for PhantomJS has been deprecated, please use headless '\n"
     ]
    },
    {
     "name": "stdout",
     "output_type": "stream",
     "text": [
      "Python Documentation by Version\n",
      "Download Python for Other Platforms\n",
      "Python 2.5.3\n",
      "Python 2.5.4 Release\n",
      "Python 2.5.4\n",
      "Python 2.5.3 Release\n",
      "Python 2.5 Release\n",
      "Python 2.5.2 Release\n",
      "Python 2.5.1 Release\n",
      "Sunsetting Python 2\n",
      "Python 2.5.0\n",
      "Python 3.1.4\n",
      "Python 2.5.2\n",
      "Python 3.1.4 Release\n",
      "Python 3.1.3 Release\n",
      "Python 2.5.1\n",
      "Python 3.2.1 Release\n",
      "Python 2.7.9rc1\n",
      "Python 3.0 Release\n",
      "Python 3.2.5 Release\n"
     ]
    },
    {
     "data": {
      "text/plain": [
       "<bound method WebDriver.quit of <selenium.webdriver.phantomjs.webdriver.WebDriver (session=\"7c8f2e60-49a2-11eb-8aa8-659fedd26905\")>>"
      ]
     },
     "execution_count": 1,
     "metadata": {},
     "output_type": "execute_result"
    }
   ],
   "source": [
    "from selenium import webdriver\n",
    "from selenium.webdriver.common.keys import Keys\n",
    "import time\n",
    "\n",
    "#단계1: 웹브라우저를 통해서 \n",
    "phantomJS = '/usr/local/bin/phantomjs'\n",
    "driver = webdriver.PhantomJS(phantomJS)\n",
    "\n",
    "#단계2: 싸이트에 자동접속\n",
    "driver.get('http://www.python.org')\n",
    "assert \"Python\" in driver.title #title에 Python이라는 글이 있으면 다음을 실행하라\n",
    "\n",
    "#단계3-1: 이름으로  크롤링\n",
    "elem = driver.find_element_by_name(\"q\")\n",
    "elem.clear()\n",
    "#키 이 벤트 전송\n",
    "elem.send_keys('python')\n",
    "#엔터 입력\n",
    "elem.send_keys(Keys.RETURN)\n",
    "\n",
    "assert \"No results found.\" not in driver.page_source #페이지 소스창에서 No results found.라는 글이 있으면 다음을 실행하지 마라.\n",
    "\n",
    "#명시적으로 일정시간을 기다릴수 있다. (10초 기다림)\n",
    "time.sleep(5)\n",
    "\n",
    "#--------------------------------------------------------------------------------------------------------------#\n",
    "data = driver.find_elements_by_css_selector(\"#content > div > section > form > ul > li > h3 > a\")\n",
    "for item in data: \n",
    "    print(item.text)\n",
    "driver.quit"
   ]
  },
  {
   "cell_type": "markdown",
   "metadata": {},
   "source": [
    "### PhantomJS를 대체할 모듈 Headless"
   ]
  },
  {
   "cell_type": "code",
   "execution_count": 3,
   "metadata": {},
   "outputs": [
    {
     "name": "stdout",
     "output_type": "stream",
     "text": [
      "Python Documentation by Version\n",
      "Download Python for Other Platforms\n",
      "Python 2.5.3\n",
      "Python 2.5.4 Release\n",
      "Python 2.5.4\n",
      "Python 2.5.3 Release\n",
      "Python 2.5 Release\n",
      "Python 2.5.2 Release\n",
      "Python 2.5.1 Release\n",
      "Sunsetting Python 2\n",
      "Python 2.5.0\n",
      "Python 3.1.4\n",
      "Python 2.5.2\n",
      "Python 3.1.4 Release\n",
      "Python 3.1.3 Release\n",
      "Python 2.5.1\n",
      "Python 3.2.1 Release\n",
      "Python 2.7.9rc1\n",
      "Python 3.0 Release\n",
      "Python 3.2.5 Release\n"
     ]
    },
    {
     "data": {
      "text/plain": [
       "<bound method WebDriver.quit of <selenium.webdriver.chrome.webdriver.WebDriver (session=\"3dce90c76b362eca42cf7dfe684ecd72\")>>"
      ]
     },
     "execution_count": 3,
     "metadata": {},
     "output_type": "execute_result"
    }
   ],
   "source": [
    "from selenium import webdriver\n",
    "from selenium.webdriver.common.keys import Keys\n",
    "import time\n",
    "\n",
    "#단계1: 웹브라우저를 통해서 \n",
    "#phantomJS = '/usr/local/bin/phantomjs'\n",
    "#driver = webdriver.PhantomJS(phantomJS)\n",
    "#기존 selenium에서 options만 추가한다. \n",
    "chromedriver = '/usr/local/Cellar/chromdriver/chromdriver'\n",
    "headless_options= webdriver.ChromeOptions()\n",
    "headless_options.add_argument('headless')\n",
    "driver = webdriver.Chrome(chromedriver, options =headless_options)\n",
    "\n",
    "\n",
    "#단계2: 싸이트에 자동접속\n",
    "driver.get('http://www.python.org')\n",
    "assert \"Python\" in driver.title #title에 Python이라는 글이 있으면 다음을 실행하라\n",
    "\n",
    "#단계3-1: 이름으로  크롤링\n",
    "elem = driver.find_element_by_name(\"q\")\n",
    "elem.clear()\n",
    "#키 이 벤트 전송\n",
    "elem.send_keys('python')\n",
    "#엔터 입력\n",
    "elem.send_keys(Keys.RETURN)\n",
    "\n",
    "assert \"No results found.\" not in driver.page_source #페이지 소스창에서 No results found.라는 글이 있으면 다음을 실행하지 마라.\n",
    "\n",
    "#명시적으로 일정시간을 기다릴수 있다. (10초 기다림)\n",
    "time.sleep(5)\n",
    "\n",
    "#--------------------------------------------------------------------------------------------------------------#\n",
    "data = driver.find_elements_by_css_selector(\"#content > div > section > form > ul > li > h3 > a\")\n",
    "for item in data: \n",
    "    print(item.text)\n",
    "driver.quit"
   ]
  },
  {
   "cell_type": "markdown",
   "metadata": {},
   "source": [
    "### Headless로 클로링 하기."
   ]
  },
  {
   "cell_type": "code",
   "execution_count": 7,
   "metadata": {},
   "outputs": [
    {
     "name": "stdout",
     "output_type": "stream",
     "text": [
      "'포켓몬고' 상륙 1주일.. 대한민국 곳곳이 들썩\n",
      "'포켓몬고' 상륙 1주일.. 대한민국 곳곳이 들썩\n",
      "많이본 뉴스\n",
      "포토&TV\n",
      "이 시각 추천뉴스\n"
     ]
    }
   ],
   "source": [
    "chromedriver = '/usr/local/Cellar/chromdriver/chromdriver'\n",
    "headless_options= webdriver.ChromeOptions()\n",
    "headless_options.add_argument('headless')\n",
    "driver = webdriver.Chrome(chromedriver, options =headless_options)\n",
    "\n",
    "driver.get('https://news.v.daum.net/v/20170202185812986')\n",
    "title = driver.find_element_by_tag_name('h3')\n",
    "print(title.text)\n",
    "\n",
    "titles = driver.find_elements_by_tag_name('h3')\n",
    "for title in titles:\n",
    "    print(title.text)\n",
    "driver.quit()"
   ]
  },
  {
   "cell_type": "code",
   "execution_count": 8,
   "metadata": {},
   "outputs": [
    {
     "name": "stdout",
     "output_type": "stream",
     "text": [
      "이용자수 700만명 육박 국민 10명중 1명이 경험\n",
      "전국 번화가.공원 '북적' 지역 상권도 후광효과\n",
      "출몰 잦은'포세권' 편의점 핫팩.간식 등 매출 급증\n",
      "지난달 24일 출시된 모바일게임 '포켓몬고'가 출시 1주일여만에 우리나라 거리 풍경을 크게 바꿔놨다. 번화가나 공원 등 거리 곳곳에서 손에 스마트폰을 들고 '포켓몬'을 사냥하는 모습을 손쉽게 찾아볼 수 있게 된 것이다.다른 국가에 비해 반년 가량 늦게 출시됐음에도 불구, 이용자 수가 700만명에 육박한 것으로 알려졌다. 우리나라 국민 10명 중 1명은 지난 1주일 사이에 한번은 포켓몬고 게임을 해봤다는 얘기다.\n",
      "\n",
      "지역경제 활성화에도 도움이 되고 있다. 포켓몬이 자주 출몰하는 지역으로 입소문을 탄 지역 편의점 매출이 급증하는 현상도 나타났다. 지난해 여름, 강원도 속초가 '포켓몬고' 특수를 톡톡히 누린 것과 비슷한 현상이 전국 곳곳에서 나타나고 있는 것이다.\n",
      "\n",
      "■우리 국민 10명 중 1명은 '포켓몬고' 게이머\n",
      "\n",
      "애플리케이션(앱) 분석업체 와이즈앱은 2일 전국 2만3000명의 안드로이드 스마트폰 사용자 표본조사를 바탕으로 추정한 지난 1주일간 '포켓몬고' 이용자는 698만명이라고 발표했다. 특히 10대와 20대 이용자들이 '포켓몬고'에 열광하고 있는 것으로 나타났다. 전체 이용자의 65% 이상이 10대와 20대다.\n",
      "\n",
      "이 게임 개발사인 나이언틱랩스가 설 연휴 직전에 출시한 전략도 제대로 맞아 떨어졌다. 지난 설 연휴, 고향에서 가족과 친지들이 모여 '포켓몬고'를 즐기는 모습이 곳곳에서 눈에 띄였다. 고속도로 휴게소 등에서도 포켓몬고 이용자들도 많았다.\n",
      "\n",
      "전국 번화가와 공원 등 게임 내 주요 장소인 '포켓스톱'으로 지정된 곳이 많은 지역은 '포켓몬고' 게이머들로 붐볐다. 서울 노원역, 이수역, 강남역, 잠실역 등 번화가와 부산 시민공원, 대전 오월드, 제천 의림지 등 전국 주요 장소로 '포켓몬'을 찾는 이들이 몰려들었다.\n",
      "\n",
      "지역 명소를 찾는 이들도 부쩍 늘었다. 주로 교회나 절, 조형물 등이 '포켓스톱'으로 지정돼 있기 때문에 평소에는 그냥 지나쳤던 명소를 다시 한번 돌아보게 되는 계기가 됐다는 게이머들도 많다.\n",
      "\n",
      "업계 관계자는 \"포켓스톱은 포켓몬고를 즐기기 위해 반드시 지나쳐야 하는 곳이기 때문에 평소엔 그냥 지나쳤더라도 요즘엔 멈춰서서 다시 한번 보는 경우가 많다\"며 \"겨울철이라 집안에만 있기 쉽지만 포켓몬고를 하기 위해 밖으로 걸어다니기 때문에 건강에도 긍정적\"이라고 언급했다.\n",
      "\n",
      "■'포켓몬고' 인기에 지역 상권도 '후광효과'\n",
      "\n",
      "포켓몬고는 지역 상권에도 영향을 주고 있다. '포켓몬'이 자주 출몰하는 이른바 '포세권'의 편의점은 후광효과를 톡톡히 보고 있다. 포켓몬을 쫓아온 게이머들이 대거 몰리면서 휴대폰 충전기와 핫팩은 물론 음료,간식 등의 매출이 쑥쑥 오르는 상황이다.\n",
      "\n",
      "세븐일레븐의 경우 포켓몬고 게임이 출시된 지난달 24일 이후 지난 1일까지 9일간 매출이 게임 출시 직전 9일에 비해 휴대폰 관련 용품 매출이 61.3%, 핫팩은 66.2%증가했다. 탄산음료와 컵라면,스낵과자도 같은 기간 매출이 33.5%,22%,16.3% 올랐다.\n",
      "\n",
      "'포세권'으로 입소문을 탄 부산시민공원점도 휴대용용품과 핫팩 매출이 각각 54%, 60.5% 늘었고 간식류 매출도 10~20% 증가했다. GS25의 대전오월드점은 같은 기간 커피와 차는 매출이 420%, 휴대폰 용품과 핫팩은 각각 271%, 268% 급증했다. 라면(46%)을 비롯한 간식류 매출도 크게 늘었다.\n",
      "\n",
      "세븐일레븐 관계자는 \"포켓몬고 이용자들이 많이 몰리는 지역 점포들의 관련 상품 매출이 크게 오르고 있다\"면서 \"수요가 높은 상품군 위주로 재고를 늘리고 진열도 확대하는 등 포켓몬고 특수에 대응하고 있다\"고 말했다.\n",
      "\n",
      "■일부 부작용도 있어 '주의'\n",
      "\n",
      "게임이 인기를 끌면서 일부 부작용도 나타나고 있어 이용자들의 주의가 요구된다. 출입이 금지된 구역에 등장하는 '포켓몬'을 획득하기 위해 금지구역을 넘어서거나 운전하면서 포켓몬고를 즐기는 사례가 잇따라 보고되고 있다. 해외에서도 '포켓몬고' 출시 당시 이런 부작용이 속출했는데 우리나라도 비슷한 현상을 겪고 있는 것이다.\n",
      "\n",
      "나이언틱랩스는 특정 속도 이상 빠르게 움직이면 '포켓몬'을 사냥할 수 없도록 하고 게임 도중 출입금지 구역에 가지 말라고 여러차례 공지하고 있다.\n",
      "\n",
      "jjoony@fnnews.com 허준 이환주 기자\n",
      "※ 저작권자 ⓒ . 무단 전재-재배포 금지\n"
     ]
    }
   ],
   "source": [
    "chromedriver = '/usr/local/Cellar/chromdriver/chromdriver'\n",
    "headless_options= webdriver.ChromeOptions()\n",
    "headless_options.add_argument('headless')\n",
    "driver = webdriver.Chrome(chromedriver, options =headless_options)\n",
    "\n",
    "driver.get('https://news.v.daum.net/v/20170202185812986')\n",
    "content = driver.find_element_by_id('harmonyContainer')\n",
    "print(content.text)"
   ]
  },
  {
   "cell_type": "code",
   "execution_count": 11,
   "metadata": {},
   "outputs": [
    {
     "name": "stdout",
     "output_type": "stream",
     "text": [
      "홈\n",
      "사회\n",
      "정치\n",
      "경제\n",
      "국제\n",
      "문화\n",
      "IT\n",
      "랭킹\n",
      "연재\n",
      "포토\n",
      "TV\n",
      "1boon\n",
      "갤러리\n",
      "서울\n",
      "서울 1 ℃\n"
     ]
    }
   ],
   "source": [
    "chromedriver = '/usr/local/Cellar/chromdriver/chromdriver'\n",
    "headless_options= webdriver.ChromeOptions()\n",
    "headless_options.add_argument('headless')\n",
    "headless_options.add_argument(\"User-Agent:  Mozilla/5.0 (Macintosh; Intel Mac OS X 10_14_4) AppleWebKit/537.36 (KHTML, like Gecko) Chrome/74.0.3729.131 Safari/537.36\")\n",
    "driver = webdriver.Chrome(chromedriver, options =headless_options)\n",
    "\n",
    "\n",
    "driver.get('https://news.v.daum.net/v/20170202185812986')\n",
    "#content = driver.find_element_by_id('harmonyContainer')\n",
    "\n",
    "content = driver.find_element_by_css_selector(\"div[role='navigation']\")\n",
    "\n",
    "print(content.text)"
   ]
  },
  {
   "cell_type": "markdown",
   "metadata": {},
   "source": [
    "### 네이버 뉴스"
   ]
  },
  {
   "cell_type": "code",
   "execution_count": 13,
   "metadata": {},
   "outputs": [
    {
     "name": "stdout",
     "output_type": "stream",
     "text": [
      "뉴스홈\n",
      "속보\n",
      "선택됨\n",
      "정치\n",
      "경제\n",
      "사회\n",
      "생활/문화\n",
      "세계\n",
      "IT/과학\n",
      "오피니언\n",
      "포토\n",
      "TV\n",
      "랭킹뉴스\n",
      "뉴스 검색\n",
      "검색\n"
     ]
    }
   ],
   "source": [
    "chromedriver = '/usr/local/Cellar/chromdriver/chromdriver'\n",
    "headless_options= webdriver.ChromeOptions()\n",
    "headless_options.add_argument('headless')\n",
    "headless_options.add_argument(\"User-Agent:  Mozilla/5.0 (Macintosh; Intel Mac OS X 10_14_4) AppleWebKit/537.36 (KHTML, like Gecko) Chrome/74.0.3729.131 Safari/537.36\")\n",
    "driver = webdriver.Chrome(chromedriver, options =headless_options)\n",
    "\n",
    "\n",
    "driver.get('https://news.naver.com/main/list.nhn?mode=LPOD&mid=sec&sid1=001&sid2=140&oid=001&isYeonhapFlash=Y')\n",
    "#content = driver.find_element_by_id('harmonyContainer')\n",
    "\n",
    "content = driver.find_element_by_class_name(\"lnb_menu\")\n",
    "\n",
    "print(content.text)"
   ]
  },
  {
   "cell_type": "markdown",
   "metadata": {},
   "source": [
    "### 트위터 자동 로그인"
   ]
  },
  {
   "cell_type": "code",
   "execution_count": 6,
   "metadata": {},
   "outputs": [],
   "source": [
    "from selenium import webdriver\n",
    "from selenium.webdriver.common.keys import Keys\n",
    "import time\n",
    "chromedriver = '/usr/local/Cellar/chromdriver/chromdriver'\n",
    "headless_options= webdriver.ChromeOptions()\n",
    "#headless_options.add_argument('headless')\n",
    "headless_options.add_argument(\"User-Agent:  Mozilla/5.0 (Macintosh; Intel Mac OS X 10_14_4) AppleWebKit/537.36 (KHTML, like Gecko) Chrome/74.0.3729.131 Safari/537.36\")\n",
    "driver = webdriver.Chrome(chromedriver, options =headless_options)\n",
    "\n",
    "\n",
    "driver.get('https://twitter.com/login')\n",
    "####################################################################################################################\n",
    "id_filled = driver.find_element_by_name(\"session[username_or_email]\")\n",
    "####################################################################################################################\n",
    "id_filled.clear()\n",
    "\n",
    "id_filled.send_keys('kimseungkyubestiedu@gmail.com')\n",
    "####################################################################################################################\n",
    "pw_filled = driver.find_element_by_name('session[password]')\n",
    "####################################################################################################################\n",
    "pw_filled.send_keys('qkqhxoddl2dd2ed*')\n",
    "pw_filled.send_keys(Keys.RETURN)\n",
    "\n",
    "time.sleep(2)"
   ]
  },
  {
   "cell_type": "markdown",
   "metadata": {},
   "source": [
    "### 특정 태그 일정 시간 기다리기 기능 "
   ]
  },
  {
   "cell_type": "code",
   "execution_count": null,
   "metadata": {},
   "outputs": [],
   "source": [
    "from selenium.webdriver.support.ui import WebDriverWait\n",
    "from selenium.webdriver.support import expected_conditions as EC \n",
    "\n",
    "element = WebDriverWait(driver,3).until(\n",
    "    EC.presence_of_element_located((By.ID,'alex-area'))#해당 태그가 나타날떄까지 기달리겠다. \n",
    ")"
   ]
  },
  {
   "cell_type": "markdown",
   "metadata": {},
   "source": [
    "### 키보드/마우스 동작 자동화하기"
   ]
  },
  {
   "cell_type": "code",
   "execution_count": null,
   "metadata": {},
   "outputs": [],
   "source": [
    "from selenium import webdriver\n",
    "\n",
    "hidden_submenu = driver.find_element_by_css_selector('.nav #submenu1')\n",
    "\n",
    "actions = webdriver.ActionChains(driver)\n",
    "actions.click(hidden_submenu)\n",
    "actions.perform()"
   ]
  },
  {
   "cell_type": "markdown",
   "metadata": {},
   "source": [
    "### 특정 태그 존재 여부 확인 기능"
   ]
  },
  {
   "cell_type": "code",
   "execution_count": null,
   "metadata": {},
   "outputs": [],
   "source": [
    "from selenium.webdriver.common.by import By"
   ]
  },
  {
   "cell_type": "markdown",
   "metadata": {},
   "source": [
    "- 해당 태그가 존재하는지 확인\n",
    "    예:(By.ID, \"alex-area\")\n",
    "- 태그 선택 방법\n",
    "    - By.CLASS_NAME:class name\n",
    "    - By.CSS_SELECTOR:css selector\n",
    "    - By.ID:id\n",
    "    - By.NAME:name\n",
    "    - By.TAG_NAME:tag name\n",
    "   "
   ]
  },
  {
   "cell_type": "markdown",
   "metadata": {},
   "source": [
    "### 다음 뉴스 기사 댓글 크롤링하기"
   ]
  },
  {
   "cell_type": "code",
   "execution_count": null,
   "metadata": {},
   "outputs": [],
   "source": [
    "from selenium import webdriver\n",
    "from selenium.webdriver.by import By #특정 태그를 지칭\n",
    "from selenium.webdriver.support.ui import WebDriverWait #일정 기간동안 특정 태그를 기달린다. \n",
    "from selenium.webdriver.support import expected_conditions as EC #키보드나 마우스 컨트롤 \n"
   ]
  }
 ],
 "metadata": {
  "kernelspec": {
   "display_name": "Python 3",
   "language": "python",
   "name": "python3"
  },
  "language_info": {
   "codemirror_mode": {
    "name": "ipython",
    "version": 3
   },
   "file_extension": ".py",
   "mimetype": "text/x-python",
   "name": "python",
   "nbconvert_exporter": "python",
   "pygments_lexer": "ipython3",
   "version": "3.7.6"
  }
 },
 "nbformat": 4,
 "nbformat_minor": 4
}
